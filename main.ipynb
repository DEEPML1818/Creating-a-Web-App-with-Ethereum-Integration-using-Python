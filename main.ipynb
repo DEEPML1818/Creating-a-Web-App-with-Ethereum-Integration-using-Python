{
 "cells": [
  {
   "cell_type": "code",
   "execution_count": 1,
   "metadata": {},
   "outputs": [
    {
     "name": "stdout",
     "output_type": "stream",
     "text": [
      "Defaulting to user installation because normal site-packages is not writeable\n",
      "Requirement already satisfied: web3 in c:\\programdata\\anaconda3\\lib\\site-packages (5.31.3)\n",
      "Requirement already satisfied: eth-utils<2.0.0,>=1.9.5 in c:\\programdata\\anaconda3\\lib\\site-packages (from web3) (1.9.5)\n",
      "Requirement already satisfied: websockets<10,>=9.1 in c:\\users\\sr\\appdata\\roaming\\python\\python39\\site-packages (from web3) (9.1)\n",
      "Requirement already satisfied: eth-hash[pycryptodome]<1.0.0,>=0.2.0 in c:\\programdata\\anaconda3\\lib\\site-packages (from web3) (0.5.1)\n",
      "Requirement already satisfied: hexbytes<1.0.0,>=0.1.0 in c:\\programdata\\anaconda3\\lib\\site-packages (from web3) (0.3.0)\n",
      "Requirement already satisfied: lru-dict<2.0.0,>=1.1.6 in c:\\programdata\\anaconda3\\lib\\site-packages (from web3) (1.1.8)\n",
      "Requirement already satisfied: protobuf==3.19.5 in c:\\users\\sr\\appdata\\roaming\\python\\python39\\site-packages (from web3) (3.19.5)\n",
      "Requirement already satisfied: eth-abi<3.0.0,>=2.2.0 in c:\\programdata\\anaconda3\\lib\\site-packages (from web3) (2.2.0)\n",
      "Requirement already satisfied: eth-rlp<0.3 in c:\\programdata\\anaconda3\\lib\\site-packages (from web3) (0.2.1)\n",
      "Requirement already satisfied: pywin32>=223 in c:\\programdata\\anaconda3\\lib\\site-packages (from web3) (302)\n",
      "Requirement already satisfied: aiohttp<4,>=3.7.4.post0 in c:\\programdata\\anaconda3\\lib\\site-packages (from web3) (3.8.4)\n",
      "Requirement already satisfied: eth-account<0.6.0,>=0.5.9 in c:\\programdata\\anaconda3\\lib\\site-packages (from web3) (0.5.9)\n",
      "Requirement already satisfied: requests<3.0.0,>=2.16.0 in c:\\users\\sr\\appdata\\roaming\\python\\python39\\site-packages (from web3) (2.31.0)\n",
      "Requirement already satisfied: eth-typing<3.0.0,>=2.0.0 in c:\\programdata\\anaconda3\\lib\\site-packages (from web3) (2.3.0)\n",
      "Requirement already satisfied: jsonschema<5,>=3.2.0 in c:\\programdata\\anaconda3\\lib\\site-packages (from web3) (4.16.0)\n",
      "Requirement already satisfied: ipfshttpclient==0.8.0a2 in c:\\programdata\\anaconda3\\lib\\site-packages (from web3) (0.8.0a2)\n",
      "Requirement already satisfied: multiaddr>=0.0.7 in c:\\programdata\\anaconda3\\lib\\site-packages (from ipfshttpclient==0.8.0a2->web3) (0.0.9)\n",
      "Requirement already satisfied: yarl<2.0,>=1.0 in c:\\programdata\\anaconda3\\lib\\site-packages (from aiohttp<4,>=3.7.4.post0->web3) (1.8.2)\n",
      "Requirement already satisfied: aiosignal>=1.1.2 in c:\\programdata\\anaconda3\\lib\\site-packages (from aiohttp<4,>=3.7.4.post0->web3) (1.3.1)\n",
      "Requirement already satisfied: attrs>=17.3.0 in c:\\programdata\\anaconda3\\lib\\site-packages (from aiohttp<4,>=3.7.4.post0->web3) (21.4.0)\n",
      "Requirement already satisfied: multidict<7.0,>=4.5 in c:\\programdata\\anaconda3\\lib\\site-packages (from aiohttp<4,>=3.7.4.post0->web3) (6.0.4)\n",
      "Requirement already satisfied: async-timeout<5.0,>=4.0.0a3 in c:\\programdata\\anaconda3\\lib\\site-packages (from aiohttp<4,>=3.7.4.post0->web3) (4.0.2)\n",
      "Requirement already satisfied: charset-normalizer<4.0,>=2.0 in c:\\programdata\\anaconda3\\lib\\site-packages (from aiohttp<4,>=3.7.4.post0->web3) (2.0.4)\n",
      "Requirement already satisfied: frozenlist>=1.1.1 in c:\\programdata\\anaconda3\\lib\\site-packages (from aiohttp<4,>=3.7.4.post0->web3) (1.3.3)\n",
      "Requirement already satisfied: parsimonious<0.9.0,>=0.8.0 in c:\\programdata\\anaconda3\\lib\\site-packages (from eth-abi<3.0.0,>=2.2.0->web3) (0.8.1)\n",
      "Requirement already satisfied: bitarray<3,>=1.2.1 in c:\\programdata\\anaconda3\\lib\\site-packages (from eth-account<0.6.0,>=0.5.9->web3) (2.5.1)\n",
      "Requirement already satisfied: eth-keyfile<0.6.0,>=0.5.0 in c:\\programdata\\anaconda3\\lib\\site-packages (from eth-account<0.6.0,>=0.5.9->web3) (0.5.1)\n",
      "Requirement already satisfied: eth-keys<0.4.0,>=0.3.4 in c:\\programdata\\anaconda3\\lib\\site-packages (from eth-account<0.6.0,>=0.5.9->web3) (0.3.4)\n",
      "Requirement already satisfied: rlp<3,>=1.0.0 in c:\\programdata\\anaconda3\\lib\\site-packages (from eth-account<0.6.0,>=0.5.9->web3) (2.0.1)\n",
      "Requirement already satisfied: pycryptodome<4,>=3.6.6 in c:\\programdata\\anaconda3\\lib\\site-packages (from eth-hash[pycryptodome]<1.0.0,>=0.2.0->web3) (3.17)\n",
      "Requirement already satisfied: cytoolz<1.0.0,>=0.10.1 in c:\\programdata\\anaconda3\\lib\\site-packages (from eth-utils<2.0.0,>=1.9.5->web3) (0.11.0)\n",
      "Requirement already satisfied: pyrsistent!=0.17.0,!=0.17.1,!=0.17.2,>=0.14.0 in c:\\programdata\\anaconda3\\lib\\site-packages (from jsonschema<5,>=3.2.0->web3) (0.18.0)\n",
      "Requirement already satisfied: certifi>=2017.4.17 in c:\\programdata\\anaconda3\\lib\\site-packages (from requests<3.0.0,>=2.16.0->web3) (2022.9.14)\n",
      "Requirement already satisfied: urllib3<3,>=1.21.1 in c:\\programdata\\anaconda3\\lib\\site-packages (from requests<3.0.0,>=2.16.0->web3) (1.26.11)\n",
      "Requirement already satisfied: idna<4,>=2.5 in c:\\programdata\\anaconda3\\lib\\site-packages (from requests<3.0.0,>=2.16.0->web3) (3.3)\n",
      "Requirement already satisfied: toolz>=0.8.0 in c:\\programdata\\anaconda3\\lib\\site-packages (from cytoolz<1.0.0,>=0.10.1->eth-utils<2.0.0,>=1.9.5->web3) (0.11.2)\n",
      "Requirement already satisfied: netaddr in c:\\programdata\\anaconda3\\lib\\site-packages (from multiaddr>=0.0.7->ipfshttpclient==0.8.0a2->web3) (0.8.0)\n",
      "Requirement already satisfied: varint in c:\\programdata\\anaconda3\\lib\\site-packages (from multiaddr>=0.0.7->ipfshttpclient==0.8.0a2->web3) (1.0.2)\n",
      "Requirement already satisfied: base58 in c:\\programdata\\anaconda3\\lib\\site-packages (from multiaddr>=0.0.7->ipfshttpclient==0.8.0a2->web3) (2.1.1)\n",
      "Requirement already satisfied: six in c:\\programdata\\anaconda3\\lib\\site-packages (from multiaddr>=0.0.7->ipfshttpclient==0.8.0a2->web3) (1.16.0)\n"
     ]
    },
    {
     "name": "stderr",
     "output_type": "stream",
     "text": [
      "WARNING: Ignoring invalid distribution -rotobuf (c:\\users\\sr\\appdata\\roaming\\python\\python39\\site-packages)\n",
      "WARNING: Ignoring invalid distribution -rotobuf (c:\\users\\sr\\appdata\\roaming\\python\\python39\\site-packages)\n",
      "WARNING: Ignoring invalid distribution -rotobuf (c:\\users\\sr\\appdata\\roaming\\python\\python39\\site-packages)\n",
      "WARNING: Ignoring invalid distribution -rotobuf (c:\\users\\sr\\appdata\\roaming\\python\\python39\\site-packages)\n",
      "WARNING: Ignoring invalid distribution -rotobuf (c:\\users\\sr\\appdata\\roaming\\python\\python39\\site-packages)\n",
      "WARNING: Ignoring invalid distribution -rotobuf (c:\\users\\sr\\appdata\\roaming\\python\\python39\\site-packages)\n"
     ]
    }
   ],
   "source": [
    "!pip install web3\n"
   ]
  },
  {
   "cell_type": "code",
   "execution_count": 1,
   "metadata": {},
   "outputs": [
    {
     "name": "stdout",
     "output_type": "stream",
     "text": [
      "^C\n"
     ]
    }
   ],
   "source": [
    "!python main.py\n"
   ]
  },
  {
   "cell_type": "code",
   "execution_count": null,
   "metadata": {},
   "outputs": [],
   "source": [
    "from bottle import Bottle, run, template\n",
    "\n",
    "app = Bottle()\n",
    "\n",
    "@app.route('/')\n",
    "def index():\n",
    "    return \"Hello, Web3py!\"\n",
    "\n",
    "if __name__ == '__main__':\n",
    "    run(app, host='localhost', port=8080, debug=True)\n"
   ]
  },
  {
   "cell_type": "code",
   "execution_count": null,
   "metadata": {},
   "outputs": [],
   "source": [
    "from bottle import Bottle, run, template\n",
    "from web3 import Web3\n",
    "\n",
    "app = Bottle()\n",
    "\n",
    "# Connect to a local Ethereum node\n",
    "w3 = Web3(Web3.HTTPProvider('http://localhost:8545'))\n",
    "\n",
    "@app.route('/')\n",
    "def index():\n",
    "    # Check if connected to Ethereum node\n",
    "    if w3.isConnected():\n",
    "        block_number = w3.eth.blockNumber\n",
    "        return template(\"Connected to Ethereum node. Latest block number: {{block_number}}\", block_number=block_number)\n",
    "    else:\n",
    "        return \"Not connected to an Ethereum node.\"\n",
    "\n",
    "if __name__ == '__main__':\n",
    "    run(app, host='localhost', port=8080, debug=True)\n"
   ]
  }
 ],
 "metadata": {
  "kernelspec": {
   "display_name": "base",
   "language": "python",
   "name": "python3"
  },
  "language_info": {
   "codemirror_mode": {
    "name": "ipython",
    "version": 3
   },
   "file_extension": ".py",
   "mimetype": "text/x-python",
   "name": "python",
   "nbconvert_exporter": "python",
   "pygments_lexer": "ipython3",
   "version": "3.9.13"
  },
  "orig_nbformat": 4,
  "vscode": {
   "interpreter": {
    "hash": "ad2bdc8ecc057115af97d19610ffacc2b4e99fae6737bb82f5d7fb13d2f2c186"
   }
  }
 },
 "nbformat": 4,
 "nbformat_minor": 2
}
